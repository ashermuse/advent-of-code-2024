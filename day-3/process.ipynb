{
 "cells": [
  {
   "cell_type": "markdown",
   "metadata": {},
   "source": [
    "# Data"
   ]
  },
  {
   "cell_type": "code",
   "execution_count": 62,
   "metadata": {},
   "outputs": [],
   "source": [
    "with open(\"input.txt\") as file:\n",
    "    data = file.read()"
   ]
  },
  {
   "cell_type": "markdown",
   "metadata": {},
   "source": [
    "# Part 1"
   ]
  },
  {
   "cell_type": "code",
   "execution_count": 6,
   "metadata": {},
   "outputs": [],
   "source": [
    "import regex as re"
   ]
  },
  {
   "cell_type": "code",
   "execution_count": 12,
   "metadata": {},
   "outputs": [],
   "source": [
    "pattern = \"mul\\\\([0-9]{1,3},[0-9]{1,3}\\\\)\"\n",
    "muls = re.findall(pattern, data)"
   ]
  },
  {
   "cell_type": "code",
   "execution_count": 47,
   "metadata": {},
   "outputs": [],
   "source": [
    "def multiply(m):\n",
    "    x, y = m[4:-1].split(\",\")\n",
    "    return int(x) * int(y)"
   ]
  },
  {
   "cell_type": "code",
   "execution_count": 48,
   "metadata": {},
   "outputs": [
    {
     "name": "stdout",
     "output_type": "stream",
     "text": [
      "190604937\n"
     ]
    }
   ],
   "source": [
    "ans = 0\n",
    "for m in muls:\n",
    "    ans += multiply(m)\n",
    "print(ans)"
   ]
  },
  {
   "cell_type": "markdown",
   "metadata": {},
   "source": [
    "# Part 2"
   ]
  },
  {
   "cell_type": "code",
   "execution_count": 63,
   "metadata": {},
   "outputs": [
    {
     "name": "stdout",
     "output_type": "stream",
     "text": [
      "82857512\n"
     ]
    }
   ],
   "source": [
    "enabled = True\n",
    "ans = 0\n",
    "for i in range(len(data)):\n",
    "    if data[i] == \"d\":\n",
    "        if i+3 < len(data) and data[i:i+4] == \"do()\":\n",
    "            enabled = True\n",
    "        elif i+6 < len(data) and data[i:i+7] == \"don't()\":\n",
    "            enabled = False\n",
    "    elif data[i] == \"m\":\n",
    "        mul = re.search(pattern, data[i:])\n",
    "        \n",
    "        if enabled and mul.span()[0] == 0:\n",
    "            ans += multiply(mul[0])\n",
    "print(ans)"
   ]
  }
 ],
 "metadata": {
  "kernelspec": {
   "display_name": "Python 3",
   "language": "python",
   "name": "python3"
  },
  "language_info": {
   "codemirror_mode": {
    "name": "ipython",
    "version": 3
   },
   "file_extension": ".py",
   "mimetype": "text/x-python",
   "name": "python",
   "nbconvert_exporter": "python",
   "pygments_lexer": "ipython3",
   "version": "3.12.5"
  }
 },
 "nbformat": 4,
 "nbformat_minor": 2
}
