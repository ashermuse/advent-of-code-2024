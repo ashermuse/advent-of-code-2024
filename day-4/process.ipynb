{
 "cells": [
  {
   "cell_type": "markdown",
   "metadata": {},
   "source": [
    "# Data"
   ]
  },
  {
   "cell_type": "code",
   "execution_count": 64,
   "metadata": {},
   "outputs": [],
   "source": [
    "with open(\"input.txt\") as file:\n",
    "    data = []\n",
    "    for line in file:\n",
    "        data.append(line.strip())"
   ]
  },
  {
   "cell_type": "markdown",
   "metadata": {},
   "source": [
    "# Part 1"
   ]
  },
  {
   "cell_type": "code",
   "execution_count": 46,
   "metadata": {},
   "outputs": [],
   "source": [
    "def cell_valid(row, col):\n",
    "    return row >= 0 and col >= 0 and row < len(data) and col < len(data[0])\n",
    "\n",
    "def test_cell_valid():\n",
    "    assert(cell_valid(0, 0))\n",
    "    assert(not cell_valid(10, 10))\n",
    "    assert(cell_valid(9, 9))\n",
    "    assert(cell_valid(1, 4))"
   ]
  },
  {
   "cell_type": "code",
   "execution_count": 53,
   "metadata": {},
   "outputs": [],
   "source": [
    "ans = 0\n",
    "deltas = [(0, 1), (0, -1), (1, 0), (-1, 0), (1, 1), (1, -1), (-1, 1), (-1, -1)]\n",
    "\n",
    "# Looping over each cell\n",
    "for row in range(len(data)):\n",
    "    for col, cell in enumerate(data[row]):\n",
    "        # Only need to check if the first character is X\n",
    "        if cell == \"X\":\n",
    "            # Check all possible directions\n",
    "            for row_d, col_d in deltas:\n",
    "                # XMAS is always 4 long so just need to check the potential S location\n",
    "                if cell_valid(row + row_d * 3, col + col_d * 3):\n",
    "                    word_to_check = cell\n",
    "                    for i in range(1, 4):\n",
    "                        word_to_check += data[row + row_d * i][col + col_d * i]\n",
    "                    \n",
    "                    if word_to_check == \"XMAS\":\n",
    "                        ans += 1"
   ]
  },
  {
   "cell_type": "code",
   "execution_count": 48,
   "metadata": {},
   "outputs": [
    {
     "name": "stdout",
     "output_type": "stream",
     "text": [
      "2639\n"
     ]
    }
   ],
   "source": [
    "print(ans)"
   ]
  },
  {
   "cell_type": "markdown",
   "metadata": {},
   "source": [
    "# Part 2"
   ]
  },
  {
   "cell_type": "code",
   "execution_count": 65,
   "metadata": {},
   "outputs": [],
   "source": [
    "ans = 0\n",
    "\n",
    "# Looping over each cell\n",
    "for row in range(len(data)):\n",
    "    for col, cell in enumerate(data[row]):\n",
    "\n",
    "        if cell == \"A\" and cell_valid(row - 1, col - 1) and cell_valid(row + 1, col + 1):\n",
    "            left_diag = data[row-1][col-1] + cell + data[row+1][col+1]\n",
    "            right_diag = data[row-1][col+1] + cell + data[row+1][col-1]\n",
    "            if (left_diag == \"SAM\" or left_diag == \"MAS\") and (right_diag == \"SAM\" or right_diag == \"MAS\"):\n",
    "                ans += 1"
   ]
  },
  {
   "cell_type": "code",
   "execution_count": 66,
   "metadata": {},
   "outputs": [
    {
     "name": "stdout",
     "output_type": "stream",
     "text": [
      "2005\n"
     ]
    }
   ],
   "source": [
    "print(ans)"
   ]
  }
 ],
 "metadata": {
  "kernelspec": {
   "display_name": "Python 3",
   "language": "python",
   "name": "python3"
  },
  "language_info": {
   "codemirror_mode": {
    "name": "ipython",
    "version": 3
   },
   "file_extension": ".py",
   "mimetype": "text/x-python",
   "name": "python",
   "nbconvert_exporter": "python",
   "pygments_lexer": "ipython3",
   "version": "3.12.5"
  }
 },
 "nbformat": 4,
 "nbformat_minor": 2
}
