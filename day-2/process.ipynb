{
 "cells": [
  {
   "cell_type": "markdown",
   "metadata": {},
   "source": [
    "# Data"
   ]
  },
  {
   "cell_type": "code",
   "execution_count": 38,
   "metadata": {},
   "outputs": [],
   "source": [
    "with open(\"input.txt\") as input:\n",
    "    reports = []\n",
    "    for report in input:\n",
    "        levels = [int(x) for x in report.strip().split(\" \")]\n",
    "        reports.append(levels)"
   ]
  },
  {
   "cell_type": "markdown",
   "metadata": {},
   "source": [
    "# Part 1"
   ]
  },
  {
   "cell_type": "code",
   "execution_count": 23,
   "metadata": {},
   "outputs": [],
   "source": [
    "def is_increasing(levels: list[int]) -> bool:\n",
    "    return all(x < y for x, y in zip(levels, levels[1:]))\n",
    "\n",
    "def is_decreasing(levels: list[int]) -> bool:\n",
    "    return all(x > y for x, y in zip(levels, levels[1:]))\n",
    "\n",
    "def valid_difference(levels: list[int]) -> bool:\n",
    "    return all(abs(x-y) >= 1 and abs(x-y) <= 3 for x, y in zip(levels, levels[1:]))"
   ]
  },
  {
   "cell_type": "code",
   "execution_count": 27,
   "metadata": {},
   "outputs": [],
   "source": [
    "ans = 0\n",
    "for levels in reports:\n",
    "    if (is_increasing(levels) or is_decreasing(levels)) and valid_difference(levels):\n",
    "        ans += 1"
   ]
  },
  {
   "cell_type": "code",
   "execution_count": null,
   "metadata": {},
   "outputs": [
    {
     "data": {
      "text/plain": [
       "371"
      ]
     },
     "execution_count": 28,
     "metadata": {},
     "output_type": "execute_result"
    }
   ],
   "source": [
    "print(ans)"
   ]
  },
  {
   "cell_type": "markdown",
   "metadata": {},
   "source": [
    "# Part 2"
   ]
  },
  {
   "cell_type": "code",
   "execution_count": null,
   "metadata": {},
   "outputs": [
    {
     "name": "stdout",
     "output_type": "stream",
     "text": [
      "426\n"
     ]
    }
   ],
   "source": [
    "ans = 0\n",
    "for levels in reports:\n",
    "    test = [(is_increasing(levels[:i] + levels[i+1:]) or is_decreasing(levels[:i] + levels[i+1:])) and valid_difference(levels[:i] + levels[i+1:]) for i in range(len(levels))]\n",
    "    \n",
    "    if any(test):\n",
    "        ans += 1\n",
    "    \n",
    "print(ans)"
   ]
  }
 ],
 "metadata": {
  "kernelspec": {
   "display_name": "Python 3",
   "language": "python",
   "name": "python3"
  },
  "language_info": {
   "codemirror_mode": {
    "name": "ipython",
    "version": 3
   },
   "file_extension": ".py",
   "mimetype": "text/x-python",
   "name": "python",
   "nbconvert_exporter": "python",
   "pygments_lexer": "ipython3",
   "version": "3.12.5"
  }
 },
 "nbformat": 4,
 "nbformat_minor": 2
}
